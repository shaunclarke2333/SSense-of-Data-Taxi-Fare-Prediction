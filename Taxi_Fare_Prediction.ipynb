{
 "cells": [
  {
   "cell_type": "code",
   "execution_count": 5,
   "metadata": {},
   "outputs": [
    {
     "name": "stderr",
     "output_type": "stream",
     "text": [
      "UsageError: Line magic function `%` not found.\n"
     ]
    }
   ],
   "source": [
    "% matplotlib inline\n",
    "import pandas as pd\n",
    "import numpy as np\n",
    "import matplotlib.pyplot as plt\n",
    "import seaborn as sns"
   ]
  },
  {
   "cell_type": "code",
   "execution_count": 6,
   "metadata": {},
   "outputs": [],
   "source": [
    "# create csv url\n",
    "url = \"https://nyctaxifaredataset.s3-us-west-1.amazonaws.com/train.csv\"\n",
    "\n",
    "#define chunk size\n",
    "c_size = 10 ** 6"
   ]
  },
  {
   "cell_type": "code",
   "execution_count": 7,
   "metadata": {
    "scrolled": true
   },
   "outputs": [
    {
     "name": "stdout",
     "output_type": "stream",
     "text": [
      "(1000000, 8)\n",
      "(1000000, 8)\n",
      "(1000000, 8)\n",
      "(1000000, 8)\n",
      "(1000000, 8)\n",
      "(1000000, 8)\n",
      "(1000000, 8)\n",
      "(1000000, 8)\n",
      "(1000000, 8)\n",
      "(1000000, 8)\n",
      "(1000000, 8)\n",
      "(1000000, 8)\n",
      "(1000000, 8)\n",
      "(1000000, 8)\n",
      "(1000000, 8)\n",
      "(1000000, 8)\n",
      "(1000000, 8)\n",
      "(1000000, 8)\n",
      "(1000000, 8)\n",
      "(1000000, 8)\n",
      "(1000000, 8)\n",
      "(1000000, 8)\n",
      "(1000000, 8)\n",
      "(1000000, 8)\n",
      "(1000000, 8)\n",
      "(1000000, 8)\n",
      "(1000000, 8)\n",
      "(1000000, 8)\n",
      "(1000000, 8)\n",
      "(1000000, 8)\n",
      "(1000000, 8)\n",
      "(1000000, 8)\n",
      "(1000000, 8)\n",
      "(1000000, 8)\n",
      "(1000000, 8)\n",
      "(1000000, 8)\n",
      "(1000000, 8)\n",
      "(1000000, 8)\n",
      "(1000000, 8)\n",
      "(1000000, 8)\n",
      "(1000000, 8)\n",
      "(1000000, 8)\n",
      "(1000000, 8)\n",
      "(1000000, 8)\n",
      "(1000000, 8)\n",
      "(1000000, 8)\n",
      "(1000000, 8)\n",
      "(1000000, 8)\n",
      "(1000000, 8)\n",
      "(1000000, 8)\n",
      "(1000000, 8)\n",
      "(1000000, 8)\n",
      "(1000000, 8)\n",
      "(1000000, 8)\n",
      "(1000000, 8)\n",
      "(423856, 8)\n"
     ]
    }
   ],
   "source": [
    "# load the train csv in smaller chunks\n",
    "for gm_chunk in pd.read_csv(url,chunksize=c_size):\n",
    "    print(gm_chunk.shape)"
   ]
  },
  {
   "cell_type": "code",
   "execution_count": 44,
   "metadata": {
    "scrolled": true
   },
   "outputs": [
    {
     "data": {
      "text/html": [
       "<div>\n",
       "<style scoped>\n",
       "    .dataframe tbody tr th:only-of-type {\n",
       "        vertical-align: middle;\n",
       "    }\n",
       "\n",
       "    .dataframe tbody tr th {\n",
       "        vertical-align: top;\n",
       "    }\n",
       "\n",
       "    .dataframe thead th {\n",
       "        text-align: right;\n",
       "    }\n",
       "</style>\n",
       "<table border=\"1\" class=\"dataframe\">\n",
       "  <thead>\n",
       "    <tr style=\"text-align: right;\">\n",
       "      <th></th>\n",
       "      <th>key</th>\n",
       "      <th>fare_amount</th>\n",
       "      <th>pickup_datetime</th>\n",
       "      <th>pickup_longitude</th>\n",
       "      <th>pickup_latitude</th>\n",
       "      <th>dropoff_longitude</th>\n",
       "      <th>dropoff_latitude</th>\n",
       "      <th>passenger_count</th>\n",
       "    </tr>\n",
       "  </thead>\n",
       "  <tbody>\n",
       "    <tr>\n",
       "      <td>55423854</td>\n",
       "      <td>2011-10-26 05:57:51.0000002</td>\n",
       "      <td>28.9</td>\n",
       "      <td>2011-10-26 05:57:51 UTC</td>\n",
       "      <td>-73.980901</td>\n",
       "      <td>40.764629</td>\n",
       "      <td>-73.870605</td>\n",
       "      <td>40.773963</td>\n",
       "      <td>1</td>\n",
       "    </tr>\n",
       "    <tr>\n",
       "      <td>55423855</td>\n",
       "      <td>2014-12-12 11:33:00.00000015</td>\n",
       "      <td>7.5</td>\n",
       "      <td>2014-12-12 11:33:00 UTC</td>\n",
       "      <td>-73.969722</td>\n",
       "      <td>40.797668</td>\n",
       "      <td>-73.970885</td>\n",
       "      <td>40.783313</td>\n",
       "      <td>1</td>\n",
       "    </tr>\n",
       "  </tbody>\n",
       "</table>\n",
       "</div>"
      ],
      "text/plain": [
       "                                   key  fare_amount          pickup_datetime  \\\n",
       "55423854   2011-10-26 05:57:51.0000002         28.9  2011-10-26 05:57:51 UTC   \n",
       "55423855  2014-12-12 11:33:00.00000015          7.5  2014-12-12 11:33:00 UTC   \n",
       "\n",
       "          pickup_longitude  pickup_latitude  dropoff_longitude  \\\n",
       "55423854        -73.980901        40.764629         -73.870605   \n",
       "55423855        -73.969722        40.797668         -73.970885   \n",
       "\n",
       "          dropoff_latitude  passenger_count  \n",
       "55423854         40.773963                1  \n",
       "55423855         40.783313                1  "
      ]
     },
     "execution_count": 44,
     "metadata": {},
     "output_type": "execute_result"
    }
   ],
   "source": [
    "# overview of data types within the dataset\n",
    "train_df = gm_chunk\n",
    "train_df.tail(2)"
   ]
  },
  {
   "cell_type": "code",
   "execution_count": 41,
   "metadata": {},
   "outputs": [
    {
     "data": {
      "text/plain": [
       "key                   object\n",
       "fare_amount          float64\n",
       "pickup_datetime       object\n",
       "pickup_longitude     float64\n",
       "pickup_latitude      float64\n",
       "dropoff_longitude    float64\n",
       "dropoff_latitude     float64\n",
       "passenger_count        int64\n",
       "dtype: object"
      ]
     },
     "execution_count": 41,
     "metadata": {},
     "output_type": "execute_result"
    }
   ],
   "source": [
    "# overview of datatypes\n",
    "train_df.dtypes"
   ]
  },
  {
   "cell_type": "code",
   "execution_count": 42,
   "metadata": {},
   "outputs": [
    {
     "data": {
      "text/html": [
       "<div>\n",
       "<style scoped>\n",
       "    .dataframe tbody tr th:only-of-type {\n",
       "        vertical-align: middle;\n",
       "    }\n",
       "\n",
       "    .dataframe tbody tr th {\n",
       "        vertical-align: top;\n",
       "    }\n",
       "\n",
       "    .dataframe thead th {\n",
       "        text-align: right;\n",
       "    }\n",
       "</style>\n",
       "<table border=\"1\" class=\"dataframe\">\n",
       "  <thead>\n",
       "    <tr style=\"text-align: right;\">\n",
       "      <th></th>\n",
       "      <th>fare_amount</th>\n",
       "      <th>pickup_longitude</th>\n",
       "      <th>pickup_latitude</th>\n",
       "      <th>dropoff_longitude</th>\n",
       "      <th>dropoff_latitude</th>\n",
       "      <th>passenger_count</th>\n",
       "    </tr>\n",
       "  </thead>\n",
       "  <tbody>\n",
       "    <tr>\n",
       "      <td>count</td>\n",
       "      <td>423856.000000</td>\n",
       "      <td>423856.000000</td>\n",
       "      <td>423856.000000</td>\n",
       "      <td>423855.000000</td>\n",
       "      <td>423855.000000</td>\n",
       "      <td>423856.000000</td>\n",
       "    </tr>\n",
       "    <tr>\n",
       "      <td>mean</td>\n",
       "      <td>11.331471</td>\n",
       "      <td>-72.511388</td>\n",
       "      <td>39.915168</td>\n",
       "      <td>-72.512560</td>\n",
       "      <td>39.927845</td>\n",
       "      <td>1.685398</td>\n",
       "    </tr>\n",
       "    <tr>\n",
       "      <td>std</td>\n",
       "      <td>9.689168</td>\n",
       "      <td>12.028677</td>\n",
       "      <td>8.913306</td>\n",
       "      <td>12.263423</td>\n",
       "      <td>10.970121</td>\n",
       "      <td>1.308255</td>\n",
       "    </tr>\n",
       "    <tr>\n",
       "      <td>min</td>\n",
       "      <td>-23.300000</td>\n",
       "      <td>-2959.462187</td>\n",
       "      <td>-2541.548795</td>\n",
       "      <td>-2593.367637</td>\n",
       "      <td>-3115.274397</td>\n",
       "      <td>0.000000</td>\n",
       "    </tr>\n",
       "    <tr>\n",
       "      <td>25%</td>\n",
       "      <td>6.000000</td>\n",
       "      <td>-73.992129</td>\n",
       "      <td>40.734932</td>\n",
       "      <td>-73.991402</td>\n",
       "      <td>40.734030</td>\n",
       "      <td>1.000000</td>\n",
       "    </tr>\n",
       "    <tr>\n",
       "      <td>50%</td>\n",
       "      <td>8.500000</td>\n",
       "      <td>-73.981833</td>\n",
       "      <td>40.752676</td>\n",
       "      <td>-73.980171</td>\n",
       "      <td>40.753106</td>\n",
       "      <td>1.000000</td>\n",
       "    </tr>\n",
       "    <tr>\n",
       "      <td>75%</td>\n",
       "      <td>12.500000</td>\n",
       "      <td>-73.967087</td>\n",
       "      <td>40.767092</td>\n",
       "      <td>-73.963746</td>\n",
       "      <td>40.768065</td>\n",
       "      <td>2.000000</td>\n",
       "    </tr>\n",
       "    <tr>\n",
       "      <td>max</td>\n",
       "      <td>300.000000</td>\n",
       "      <td>73.863260</td>\n",
       "      <td>2371.279908</td>\n",
       "      <td>1196.891612</td>\n",
       "      <td>3359.841550</td>\n",
       "      <td>9.000000</td>\n",
       "    </tr>\n",
       "  </tbody>\n",
       "</table>\n",
       "</div>"
      ],
      "text/plain": [
       "         fare_amount  pickup_longitude  pickup_latitude  dropoff_longitude  \\\n",
       "count  423856.000000     423856.000000    423856.000000      423855.000000   \n",
       "mean       11.331471        -72.511388        39.915168         -72.512560   \n",
       "std         9.689168         12.028677         8.913306          12.263423   \n",
       "min       -23.300000      -2959.462187     -2541.548795       -2593.367637   \n",
       "25%         6.000000        -73.992129        40.734932         -73.991402   \n",
       "50%         8.500000        -73.981833        40.752676         -73.980171   \n",
       "75%        12.500000        -73.967087        40.767092         -73.963746   \n",
       "max       300.000000         73.863260      2371.279908        1196.891612   \n",
       "\n",
       "       dropoff_latitude  passenger_count  \n",
       "count     423855.000000    423856.000000  \n",
       "mean          39.927845         1.685398  \n",
       "std           10.970121         1.308255  \n",
       "min        -3115.274397         0.000000  \n",
       "25%           40.734030         1.000000  \n",
       "50%           40.753106         1.000000  \n",
       "75%           40.768065         2.000000  \n",
       "max         3359.841550         9.000000  "
      ]
     },
     "execution_count": 42,
     "metadata": {},
     "output_type": "execute_result"
    }
   ],
   "source": [
    "# checking statistical features\n",
    "train_df.describe()"
   ]
  },
  {
   "cell_type": "code",
   "execution_count": 43,
   "metadata": {},
   "outputs": [
    {
     "data": {
      "text/html": [
       "<div>\n",
       "<style scoped>\n",
       "    .dataframe tbody tr th:only-of-type {\n",
       "        vertical-align: middle;\n",
       "    }\n",
       "\n",
       "    .dataframe tbody tr th {\n",
       "        vertical-align: top;\n",
       "    }\n",
       "\n",
       "    .dataframe thead th {\n",
       "        text-align: right;\n",
       "    }\n",
       "</style>\n",
       "<table border=\"1\" class=\"dataframe\">\n",
       "  <thead>\n",
       "    <tr style=\"text-align: right;\">\n",
       "      <th></th>\n",
       "      <th>key</th>\n",
       "      <th>fare_amount</th>\n",
       "      <th>pickup_datetime</th>\n",
       "      <th>pickup_longitude</th>\n",
       "      <th>pickup_latitude</th>\n",
       "      <th>dropoff_longitude</th>\n",
       "      <th>dropoff_latitude</th>\n",
       "      <th>passenger_count</th>\n",
       "    </tr>\n",
       "  </thead>\n",
       "  <tbody>\n",
       "    <tr>\n",
       "      <td>55000000</td>\n",
       "      <td>2009-06-30 09:25:00.00000094</td>\n",
       "      <td>6.5</td>\n",
       "      <td>2009-06-30 09:25:00 UTC</td>\n",
       "      <td>-73.990421</td>\n",
       "      <td>40.718843</td>\n",
       "      <td>-74.000060</td>\n",
       "      <td>40.727895</td>\n",
       "      <td>1</td>\n",
       "    </tr>\n",
       "    <tr>\n",
       "      <td>55000001</td>\n",
       "      <td>2009-09-28 18:04:43.0000001</td>\n",
       "      <td>5.7</td>\n",
       "      <td>2009-09-28 18:04:43 UTC</td>\n",
       "      <td>-73.974759</td>\n",
       "      <td>40.749067</td>\n",
       "      <td>-73.983955</td>\n",
       "      <td>40.736129</td>\n",
       "      <td>1</td>\n",
       "    </tr>\n",
       "  </tbody>\n",
       "</table>\n",
       "</div>"
      ],
      "text/plain": [
       "                                   key  fare_amount          pickup_datetime  \\\n",
       "55000000  2009-06-30 09:25:00.00000094          6.5  2009-06-30 09:25:00 UTC   \n",
       "55000001   2009-09-28 18:04:43.0000001          5.7  2009-09-28 18:04:43 UTC   \n",
       "\n",
       "          pickup_longitude  pickup_latitude  dropoff_longitude  \\\n",
       "55000000        -73.990421        40.718843         -74.000060   \n",
       "55000001        -73.974759        40.749067         -73.983955   \n",
       "\n",
       "          dropoff_latitude  passenger_count  \n",
       "55000000         40.727895                1  \n",
       "55000001         40.736129                1  "
      ]
     },
     "execution_count": 43,
     "metadata": {},
     "output_type": "execute_result"
    }
   ],
   "source": [
    "# train_df = train_df.query(\"fare_amount >=0\")\n",
    "train_df = train_df[train_df.fare_amount>=0]\n",
    "\n",
    "train_df.head(2)"
   ]
  },
  {
   "cell_type": "code",
   "execution_count": 36,
   "metadata": {},
   "outputs": [
    {
     "name": "stdout",
     "output_type": "stream",
     "text": [
      "key                  0\n",
      "fare_amount          0\n",
      "pickup_datetime      0\n",
      "pickup_longitude     0\n",
      "pickup_latitude      0\n",
      "dropoff_longitude    0\n",
      "dropoff_latitude     0\n",
      "passenger_count      0\n",
      "dtype: int64\n"
     ]
    }
   ],
   "source": [
    "print(train_df.isnull().sum())"
   ]
  },
  {
   "cell_type": "code",
   "execution_count": null,
   "metadata": {},
   "outputs": [],
   "source": []
  }
 ],
 "metadata": {
  "kernelspec": {
   "display_name": "Python 3",
   "language": "python",
   "name": "python3"
  },
  "language_info": {
   "codemirror_mode": {
    "name": "ipython",
    "version": 3
   },
   "file_extension": ".py",
   "mimetype": "text/x-python",
   "name": "python",
   "nbconvert_exporter": "python",
   "pygments_lexer": "ipython3",
   "version": "3.6.9"
  }
 },
 "nbformat": 4,
 "nbformat_minor": 2
}
